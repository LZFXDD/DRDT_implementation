{
 "cells": [
  {
   "cell_type": "code",
   "execution_count": 2,
   "id": "initial_id",
   "metadata": {
    "collapsed": true,
    "ExecuteTime": {
     "end_time": "2024-08-19T18:19:37.424006900Z",
     "start_time": "2024-08-19T18:19:35.689102Z"
    }
   },
   "outputs": [
    {
     "ename": "KeyError",
     "evalue": "'preferences_analysis'",
     "output_type": "error",
     "traceback": [
      "\u001B[1;31m---------------------------------------------------------------------------\u001B[0m",
      "\u001B[1;31mKeyError\u001B[0m                                  Traceback (most recent call last)",
      "Cell \u001B[1;32mIn[2], line 10\u001B[0m\n\u001B[0;32m      7\u001B[0m \u001B[38;5;28;01mfrom\u001B[39;00m \u001B[38;5;21;01mAgents\u001B[39;00m \u001B[38;5;28;01mimport\u001B[39;00m DRDT_Agents\n\u001B[0;32m      9\u001B[0m test \u001B[38;5;241m=\u001B[39m DRDT_Agents(user_id\u001B[38;5;241m=\u001B[39m\u001B[38;5;241m2\u001B[39m)\n\u001B[1;32m---> 10\u001B[0m \u001B[43mtest\u001B[49m\u001B[38;5;241;43m.\u001B[39;49m\u001B[43mrun\u001B[49m\u001B[43m(\u001B[49m\u001B[43m)\u001B[49m\n",
      "File \u001B[1;32mD:\\USTC\\实验室\\DRDT_implementation\\DRDT_implementation\\重构\\Agents.py:76\u001B[0m, in \u001B[0;36mDRDT_Agents.run\u001B[1;34m(self)\u001B[0m\n\u001B[0;32m     74\u001B[0m \u001B[38;5;28mself\u001B[39m\u001B[38;5;241m.\u001B[39mscratchpad \u001B[38;5;241m+\u001B[39m\u001B[38;5;241m=\u001B[39m \u001B[38;5;124m'\u001B[39m\u001B[38;5;130;01m\\n\u001B[39;00m\u001B[38;5;124m'\u001B[39m\n\u001B[0;32m     75\u001B[0m \u001B[38;5;28mself\u001B[39m\u001B[38;5;241m.\u001B[39mcandidates \u001B[38;5;241m=\u001B[39m \u001B[38;5;28mself\u001B[39m\u001B[38;5;241m.\u001B[39mcandidates_selection(\u001B[38;5;241m5\u001B[39m)\n\u001B[1;32m---> 76\u001B[0m \u001B[38;5;28;43mself\u001B[39;49m\u001B[38;5;241;43m.\u001B[39;49m\u001B[43mstep\u001B[49m\u001B[43m(\u001B[49m\u001B[43m)\u001B[49m\n\u001B[0;32m     77\u001B[0m \u001B[38;5;28mself\u001B[39m\u001B[38;5;241m.\u001B[39mstep_n \u001B[38;5;241m+\u001B[39m\u001B[38;5;241m=\u001B[39m \u001B[38;5;241m1\u001B[39m\n\u001B[0;32m     79\u001B[0m \u001B[38;5;28;01mif\u001B[39;00m \u001B[38;5;28mself\u001B[39m\u001B[38;5;241m.\u001B[39mstep_n \u001B[38;5;241m<\u001B[39m train_times \u001B[38;5;241m-\u001B[39m \u001B[38;5;241m1\u001B[39m:\n",
      "File \u001B[1;32mD:\\USTC\\实验室\\DRDT_implementation\\DRDT_implementation\\重构\\Agents.py:99\u001B[0m, in \u001B[0;36mDRDT_Agents.step\u001B[1;34m(self)\u001B[0m\n\u001B[0;32m     97\u001B[0m \u001B[38;5;66;03m### probing\u001B[39;00m\n\u001B[0;32m     98\u001B[0m \u001B[38;5;28mself\u001B[39m\u001B[38;5;241m.\u001B[39mscratchpad \u001B[38;5;241m+\u001B[39m\u001B[38;5;241m=\u001B[39m \u001B[38;5;124m\"\u001B[39m\u001B[38;5;124mPROBING:\u001B[39m\u001B[38;5;130;01m\\n\u001B[39;00m\u001B[38;5;124m\"\u001B[39m\n\u001B[1;32m---> 99\u001B[0m \u001B[38;5;28mself\u001B[39m\u001B[38;5;241m.\u001B[39mscratchpad \u001B[38;5;241m+\u001B[39m\u001B[38;5;241m=\u001B[39m \u001B[38;5;28;43mself\u001B[39;49m\u001B[38;5;241;43m.\u001B[39;49m\u001B[43mPROBE_build_agent_prompt\u001B[49m\u001B[43m(\u001B[49m\u001B[43m)\u001B[49m\n\u001B[0;32m    100\u001B[0m \u001B[38;5;28mself\u001B[39m\u001B[38;5;241m.\u001B[39mscratchpad \u001B[38;5;241m+\u001B[39m\u001B[38;5;241m=\u001B[39m \u001B[38;5;124m'\u001B[39m\u001B[38;5;130;01m\\n\u001B[39;00m\u001B[38;5;124m'\u001B[39m\n\u001B[0;32m    102\u001B[0m prompt_probe \u001B[38;5;241m=\u001B[39m \u001B[38;5;28mself\u001B[39m\u001B[38;5;241m.\u001B[39mprompt_PROBE()\n",
      "File \u001B[1;32mD:\\USTC\\实验室\\DRDT_implementation\\DRDT_implementation\\重构\\Agents.py:176\u001B[0m, in \u001B[0;36mDRDT_Agents.PROBE_build_agent_prompt\u001B[1;34m(self)\u001B[0m\n\u001B[0;32m    173\u001B[0m \u001B[38;5;28;01mdef\u001B[39;00m \u001B[38;5;21mPROBE_build_agent_prompt\u001B[39m(\u001B[38;5;28mself\u001B[39m) \u001B[38;5;241m-\u001B[39m\u001B[38;5;241m>\u001B[39m \u001B[38;5;28mstr\u001B[39m:\n\u001B[0;32m    174\u001B[0m     length \u001B[38;5;241m=\u001B[39m \u001B[38;5;28mlen\u001B[39m(user_history[\u001B[38;5;28mself\u001B[39m\u001B[38;5;241m.\u001B[39muser_id][\u001B[38;5;241m0\u001B[39m])\n\u001B[1;32m--> 176\u001B[0m     \u001B[38;5;28;01mreturn\u001B[39;00m \u001B[38;5;28;43mself\u001B[39;49m\u001B[38;5;241;43m.\u001B[39;49m\u001B[43mprobe_agent_prompt\u001B[49m\u001B[38;5;241;43m.\u001B[39;49m\u001B[43mformat\u001B[49m\u001B[43m(\u001B[49m\n\u001B[0;32m    177\u001B[0m \u001B[43m        \u001B[49m\u001B[43mpreference_analysis\u001B[49m\u001B[38;5;241;43m=\u001B[39;49m\u001B[38;5;28;43mself\u001B[39;49m\u001B[38;5;241;43m.\u001B[39;49m\u001B[43mpreference_analysis\u001B[49m\u001B[43m,\u001B[49m\n\u001B[0;32m    178\u001B[0m \u001B[43m        \u001B[49m\u001B[43mcandidates\u001B[49m\u001B[38;5;241;43m=\u001B[39;49m\u001B[38;5;28;43mself\u001B[39;49m\u001B[38;5;241;43m.\u001B[39;49m\u001B[43mcandidates\u001B[49m\u001B[43m \u001B[49m\u001B[38;5;241;43m+\u001B[39;49m\u001B[43m \u001B[49m\u001B[43m[\u001B[49m\u001B[43mmovie_info\u001B[49m\u001B[43m[\u001B[49m\u001B[43muser_history\u001B[49m\u001B[43m[\u001B[49m\u001B[38;5;28;43mself\u001B[39;49m\u001B[38;5;241;43m.\u001B[39;49m\u001B[43muser_id\u001B[49m\u001B[43m]\u001B[49m\u001B[43m[\u001B[49m\u001B[38;5;241;43m0\u001B[39;49m\u001B[43m]\u001B[49m\u001B[43m[\u001B[49m\u001B[43mlength\u001B[49m\u001B[43m \u001B[49m\u001B[38;5;241;43m-\u001B[39;49m\u001B[43m \u001B[49m\u001B[43mtrain_times\u001B[49m\u001B[43m \u001B[49m\u001B[38;5;241;43m+\u001B[39;49m\u001B[43m \u001B[49m\u001B[38;5;28;43mself\u001B[39;49m\u001B[38;5;241;43m.\u001B[39;49m\u001B[43mstep_n\u001B[49m\u001B[43m]\u001B[49m\u001B[43m]\u001B[49m\u001B[43m[\u001B[49m\u001B[38;5;124;43m'\u001B[39;49m\u001B[38;5;124;43mtitle\u001B[39;49m\u001B[38;5;124;43m'\u001B[39;49m\u001B[43m]\u001B[49m\u001B[43m]\u001B[49m\n\u001B[0;32m    179\u001B[0m \u001B[43m    \u001B[49m\u001B[43m)\u001B[49m\n",
      "File \u001B[1;32mC:\\Python312\\Lib\\site-packages\\langchain\\prompts\\prompt.py:66\u001B[0m, in \u001B[0;36mPromptTemplate.format\u001B[1;34m(self, **kwargs)\u001B[0m\n\u001B[0;32m     51\u001B[0m \u001B[38;5;250m\u001B[39m\u001B[38;5;124;03m\"\"\"Format the prompt with the inputs.\u001B[39;00m\n\u001B[0;32m     52\u001B[0m \n\u001B[0;32m     53\u001B[0m \u001B[38;5;124;03mArgs:\u001B[39;00m\n\u001B[1;32m   (...)\u001B[0m\n\u001B[0;32m     63\u001B[0m \u001B[38;5;124;03m    prompt.format(variable1=\"foo\")\u001B[39;00m\n\u001B[0;32m     64\u001B[0m \u001B[38;5;124;03m\"\"\"\u001B[39;00m\n\u001B[0;32m     65\u001B[0m kwargs \u001B[38;5;241m=\u001B[39m \u001B[38;5;28mself\u001B[39m\u001B[38;5;241m.\u001B[39m_merge_partial_and_user_variables(\u001B[38;5;241m*\u001B[39m\u001B[38;5;241m*\u001B[39mkwargs)\n\u001B[1;32m---> 66\u001B[0m \u001B[38;5;28;01mreturn\u001B[39;00m \u001B[43mDEFAULT_FORMATTER_MAPPING\u001B[49m\u001B[43m[\u001B[49m\u001B[38;5;28;43mself\u001B[39;49m\u001B[38;5;241;43m.\u001B[39;49m\u001B[43mtemplate_format\u001B[49m\u001B[43m]\u001B[49m\u001B[43m(\u001B[49m\u001B[38;5;28;43mself\u001B[39;49m\u001B[38;5;241;43m.\u001B[39;49m\u001B[43mtemplate\u001B[49m\u001B[43m,\u001B[49m\u001B[43m \u001B[49m\u001B[38;5;241;43m*\u001B[39;49m\u001B[38;5;241;43m*\u001B[39;49m\u001B[43mkwargs\u001B[49m\u001B[43m)\u001B[49m\n",
      "File \u001B[1;32mC:\\Python312\\Lib\\string.py:190\u001B[0m, in \u001B[0;36mFormatter.format\u001B[1;34m(self, format_string, *args, **kwargs)\u001B[0m\n\u001B[0;32m    189\u001B[0m \u001B[38;5;28;01mdef\u001B[39;00m \u001B[38;5;21mformat\u001B[39m(\u001B[38;5;28mself\u001B[39m, format_string, \u001B[38;5;241m/\u001B[39m, \u001B[38;5;241m*\u001B[39margs, \u001B[38;5;241m*\u001B[39m\u001B[38;5;241m*\u001B[39mkwargs):\n\u001B[1;32m--> 190\u001B[0m     \u001B[38;5;28;01mreturn\u001B[39;00m \u001B[38;5;28;43mself\u001B[39;49m\u001B[38;5;241;43m.\u001B[39;49m\u001B[43mvformat\u001B[49m\u001B[43m(\u001B[49m\u001B[43mformat_string\u001B[49m\u001B[43m,\u001B[49m\u001B[43m \u001B[49m\u001B[43margs\u001B[49m\u001B[43m,\u001B[49m\u001B[43m \u001B[49m\u001B[43mkwargs\u001B[49m\u001B[43m)\u001B[49m\n",
      "File \u001B[1;32mC:\\Python312\\Lib\\site-packages\\langchain\\formatting.py:29\u001B[0m, in \u001B[0;36mStrictFormatter.vformat\u001B[1;34m(self, format_string, args, kwargs)\u001B[0m\n\u001B[0;32m     24\u001B[0m \u001B[38;5;28;01mif\u001B[39;00m \u001B[38;5;28mlen\u001B[39m(args) \u001B[38;5;241m>\u001B[39m \u001B[38;5;241m0\u001B[39m:\n\u001B[0;32m     25\u001B[0m     \u001B[38;5;28;01mraise\u001B[39;00m \u001B[38;5;167;01mValueError\u001B[39;00m(\n\u001B[0;32m     26\u001B[0m         \u001B[38;5;124m\"\u001B[39m\u001B[38;5;124mNo arguments should be provided, \u001B[39m\u001B[38;5;124m\"\u001B[39m\n\u001B[0;32m     27\u001B[0m         \u001B[38;5;124m\"\u001B[39m\u001B[38;5;124meverything should be passed as keyword arguments.\u001B[39m\u001B[38;5;124m\"\u001B[39m\n\u001B[0;32m     28\u001B[0m     )\n\u001B[1;32m---> 29\u001B[0m \u001B[38;5;28;01mreturn\u001B[39;00m \u001B[38;5;28;43msuper\u001B[39;49m\u001B[43m(\u001B[49m\u001B[43m)\u001B[49m\u001B[38;5;241;43m.\u001B[39;49m\u001B[43mvformat\u001B[49m\u001B[43m(\u001B[49m\u001B[43mformat_string\u001B[49m\u001B[43m,\u001B[49m\u001B[43m \u001B[49m\u001B[43margs\u001B[49m\u001B[43m,\u001B[49m\u001B[43m \u001B[49m\u001B[43mkwargs\u001B[49m\u001B[43m)\u001B[49m\n",
      "File \u001B[1;32mC:\\Python312\\Lib\\string.py:194\u001B[0m, in \u001B[0;36mFormatter.vformat\u001B[1;34m(self, format_string, args, kwargs)\u001B[0m\n\u001B[0;32m    192\u001B[0m \u001B[38;5;28;01mdef\u001B[39;00m \u001B[38;5;21mvformat\u001B[39m(\u001B[38;5;28mself\u001B[39m, format_string, args, kwargs):\n\u001B[0;32m    193\u001B[0m     used_args \u001B[38;5;241m=\u001B[39m \u001B[38;5;28mset\u001B[39m()\n\u001B[1;32m--> 194\u001B[0m     result, _ \u001B[38;5;241m=\u001B[39m \u001B[38;5;28;43mself\u001B[39;49m\u001B[38;5;241;43m.\u001B[39;49m\u001B[43m_vformat\u001B[49m\u001B[43m(\u001B[49m\u001B[43mformat_string\u001B[49m\u001B[43m,\u001B[49m\u001B[43m \u001B[49m\u001B[43margs\u001B[49m\u001B[43m,\u001B[49m\u001B[43m \u001B[49m\u001B[43mkwargs\u001B[49m\u001B[43m,\u001B[49m\u001B[43m \u001B[49m\u001B[43mused_args\u001B[49m\u001B[43m,\u001B[49m\u001B[43m \u001B[49m\u001B[38;5;241;43m2\u001B[39;49m\u001B[43m)\u001B[49m\n\u001B[0;32m    195\u001B[0m     \u001B[38;5;28mself\u001B[39m\u001B[38;5;241m.\u001B[39mcheck_unused_args(used_args, args, kwargs)\n\u001B[0;32m    196\u001B[0m     \u001B[38;5;28;01mreturn\u001B[39;00m result\n",
      "File \u001B[1;32mC:\\Python312\\Lib\\string.py:234\u001B[0m, in \u001B[0;36mFormatter._vformat\u001B[1;34m(self, format_string, args, kwargs, used_args, recursion_depth, auto_arg_index)\u001B[0m\n\u001B[0;32m    230\u001B[0m     auto_arg_index \u001B[38;5;241m=\u001B[39m \u001B[38;5;28;01mFalse\u001B[39;00m\n\u001B[0;32m    232\u001B[0m \u001B[38;5;66;03m# given the field_name, find the object it references\u001B[39;00m\n\u001B[0;32m    233\u001B[0m \u001B[38;5;66;03m#  and the argument it came from\u001B[39;00m\n\u001B[1;32m--> 234\u001B[0m obj, arg_used \u001B[38;5;241m=\u001B[39m \u001B[38;5;28;43mself\u001B[39;49m\u001B[38;5;241;43m.\u001B[39;49m\u001B[43mget_field\u001B[49m\u001B[43m(\u001B[49m\u001B[43mfield_name\u001B[49m\u001B[43m,\u001B[49m\u001B[43m \u001B[49m\u001B[43margs\u001B[49m\u001B[43m,\u001B[49m\u001B[43m \u001B[49m\u001B[43mkwargs\u001B[49m\u001B[43m)\u001B[49m\n\u001B[0;32m    235\u001B[0m used_args\u001B[38;5;241m.\u001B[39madd(arg_used)\n\u001B[0;32m    237\u001B[0m \u001B[38;5;66;03m# do any conversion on the resulting object\u001B[39;00m\n",
      "File \u001B[1;32mC:\\Python312\\Lib\\string.py:299\u001B[0m, in \u001B[0;36mFormatter.get_field\u001B[1;34m(self, field_name, args, kwargs)\u001B[0m\n\u001B[0;32m    296\u001B[0m \u001B[38;5;28;01mdef\u001B[39;00m \u001B[38;5;21mget_field\u001B[39m(\u001B[38;5;28mself\u001B[39m, field_name, args, kwargs):\n\u001B[0;32m    297\u001B[0m     first, rest \u001B[38;5;241m=\u001B[39m _string\u001B[38;5;241m.\u001B[39mformatter_field_name_split(field_name)\n\u001B[1;32m--> 299\u001B[0m     obj \u001B[38;5;241m=\u001B[39m \u001B[38;5;28;43mself\u001B[39;49m\u001B[38;5;241;43m.\u001B[39;49m\u001B[43mget_value\u001B[49m\u001B[43m(\u001B[49m\u001B[43mfirst\u001B[49m\u001B[43m,\u001B[49m\u001B[43m \u001B[49m\u001B[43margs\u001B[49m\u001B[43m,\u001B[49m\u001B[43m \u001B[49m\u001B[43mkwargs\u001B[49m\u001B[43m)\u001B[49m\n\u001B[0;32m    301\u001B[0m     \u001B[38;5;66;03m# loop through the rest of the field_name, doing\u001B[39;00m\n\u001B[0;32m    302\u001B[0m     \u001B[38;5;66;03m#  getattr or getitem as needed\u001B[39;00m\n\u001B[0;32m    303\u001B[0m     \u001B[38;5;28;01mfor\u001B[39;00m is_attr, i \u001B[38;5;129;01min\u001B[39;00m rest:\n",
      "File \u001B[1;32mC:\\Python312\\Lib\\string.py:256\u001B[0m, in \u001B[0;36mFormatter.get_value\u001B[1;34m(self, key, args, kwargs)\u001B[0m\n\u001B[0;32m    254\u001B[0m     \u001B[38;5;28;01mreturn\u001B[39;00m args[key]\n\u001B[0;32m    255\u001B[0m \u001B[38;5;28;01melse\u001B[39;00m:\n\u001B[1;32m--> 256\u001B[0m     \u001B[38;5;28;01mreturn\u001B[39;00m \u001B[43mkwargs\u001B[49m\u001B[43m[\u001B[49m\u001B[43mkey\u001B[49m\u001B[43m]\u001B[49m\n",
      "\u001B[1;31mKeyError\u001B[0m: 'preferences_analysis'"
     ]
    }
   ],
   "source": [
    "import openai\n",
    "\n",
    "# openai_api设置\n",
    "openai.api_key = 'sk-fph6emDpXF4gpDqOFe827a075561421d81C4442c5e489d37'\n",
    "openai.api_base = 'https://free.gpt.ge/v1'\n",
    "\n",
    "from Agents import DRDT_Agents\n",
    "\n",
    "test = DRDT_Agents(user_id=2)\n",
    "test.run()"
   ]
  }
 ],
 "metadata": {
  "kernelspec": {
   "display_name": "Python 3",
   "language": "python",
   "name": "python3"
  },
  "language_info": {
   "codemirror_mode": {
    "name": "ipython",
    "version": 2
   },
   "file_extension": ".py",
   "mimetype": "text/x-python",
   "name": "python",
   "nbconvert_exporter": "python",
   "pygments_lexer": "ipython2",
   "version": "2.7.6"
  }
 },
 "nbformat": 4,
 "nbformat_minor": 5
}
